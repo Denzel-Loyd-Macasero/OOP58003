{
  "nbformat": 4,
  "nbformat_minor": 0,
  "metadata": {
    "colab": {
      "name": "OOP CONCEPTS_2.ipynb",
      "provenance": [],
      "authorship_tag": "ABX9TyPUZktSzmdUkDFitNj7D9Yb",
      "include_colab_link": true
    },
    "kernelspec": {
      "name": "python3",
      "display_name": "Python 3"
    },
    "language_info": {
      "name": "python"
    }
  },
  "cells": [
    {
      "cell_type": "markdown",
      "metadata": {
        "id": "view-in-github",
        "colab_type": "text"
      },
      "source": [
        "<a href=\"https://colab.research.google.com/github/Denzel-Loyd-Macasero/OOP58003/blob/main/OOP_CONCEPTS_2.ipynb\" target=\"_parent\"><img src=\"https://colab.research.google.com/assets/colab-badge.svg\" alt=\"Open In Colab\"/></a>"
      ]
    },
    {
      "cell_type": "markdown",
      "source": [
        "Classes whith multiple objects"
      ],
      "metadata": {
        "id": "cxrbVQAb5TOc"
      }
    },
    {
      "cell_type": "code",
      "source": [
        "class Birds:\n",
        "  def __init__(self,bird_name):\n",
        "    self.bird_name = bird_name\n",
        "    def flying_birds(self):\n",
        "      print(f\"{self.bird_name} flies above clouds\")\n",
        "      def non_flying_birds(self):\n",
        "        print(f\"{self.bird_name} is the national bird of Philippines\")\n",
        "\n",
        "        vulture = Birds(\"Griffion Vulture\")\n",
        "        crane = Birds(\"Common Crane\")\n",
        "        emu = Birds(\"Emu\")\n",
        "\n",
        "        vulture.flying_birds()\n",
        "        crane.flying_birds()\n",
        "        emu.non_flying_birds()\n"
      ],
      "metadata": {
        "id": "D40eipJd5Xn6"
      },
      "execution_count": null,
      "outputs": []
    },
    {
      "cell_type": "markdown",
      "source": [
        "Encapsulation"
      ],
      "metadata": {
        "id": "eekpPyMd_I4B"
      }
    },
    {
      "cell_type": "code",
      "source": [
        "class foo:\n",
        "  def __init__(self, a, b):\n",
        "   self.a = a\n",
        "   self.b = b\n",
        "   def add(self):\n",
        "    return self.a +self.b\n",
        "    foo_object = foo(3,4)\n",
        "    foo_object.add()\n",
        "\n",
        "    "
      ],
      "metadata": {
        "id": "FqULwYa8_Lix"
      },
      "execution_count": null,
      "outputs": []
    },
    {
      "cell_type": "code",
      "source": [
        "class Counter:\n",
        "    def __init__(self):\n",
        "        self.current = 0\n",
        "\n",
        "    def increment(self):\n",
        "        self.current += 1\n",
        "\n",
        "    def value(self):\n",
        "        return self.current\n",
        "\n",
        "    def reset(self):\n",
        "        self.current = 0\n",
        "counter = Counter()\n",
        "\n",
        "\n",
        "counter.increment()\n",
        "counter.increment()\n",
        "counter.increment()\n",
        "\n",
        "print(counter.value())\n"
      ],
      "metadata": {
        "colab": {
          "base_uri": "https://localhost:8080/"
        },
        "id": "FRzz3CtmBqJm",
        "outputId": "1ca03000-e1ad-40ae-d83a-575ec649a07d"
      },
      "execution_count": null,
      "outputs": [
        {
          "output_type": "stream",
          "name": "stdout",
          "text": [
            "3\n"
          ]
        }
      ]
    },
    {
      "cell_type": "markdown",
      "source": [
        "Inheritance"
      ],
      "metadata": {
        "id": "XzUED20YEIVB"
      }
    },
    {
      "cell_type": "code",
      "source": [
        "class Person:\n",
        "  def __init__(self,firstname,surname):\n",
        "    self.firstname = firstname\n",
        "    self.surname = surname\n",
        "    def fullname(self):\n",
        "      print(self.firstname, self.surname)\n",
        "\n",
        "      person = Person(\"Ana\",\"UWU\")\n",
        "      person.fullname()\n",
        "\n",
        "      class Student(Person):\n",
        "        pass\n",
        "\n",
        "      person2 = Student(\"Ma\",\"MAAAA\")\n",
        "\n",
        "      person2.fullname()\n"
      ],
      "metadata": {
        "id": "Uw5H9L5yEKS5"
      },
      "execution_count": null,
      "outputs": []
    },
    {
      "cell_type": "markdown",
      "source": [
        "Polymorphism"
      ],
      "metadata": {
        "id": "i8n1vwxJGJGe"
      }
    },
    {
      "cell_type": "code",
      "source": [
        "class RegularPolygon:\n",
        "  def __init__(self,side):\n",
        "    self.side = side\n",
        "    class Square(RegularPolygon):\n",
        "      def area(self):\n",
        "        return self.side *self.side\n",
        "        class EquilateralTriangle(RegularPloygon):\n",
        "          def area(self):\n",
        "            return self.side *self.side *0.433"
      ],
      "metadata": {
        "id": "3srMZP7aGIc3"
      },
      "execution_count": null,
      "outputs": []
    },
    {
      "cell_type": "markdown",
      "source": [
        ""
      ],
      "metadata": {
        "id": "2eoLdqlU9uqp"
      }
    },
    {
      "cell_type": "code",
      "source": [
        "class RegularPolygon:\n",
        "  def __init__(self,side=1):\n",
        "    self.side = side\n",
        "    class Square(RegularPolygon):\n",
        "      def area(self):\n",
        "        return self.side * self.side\n",
        "        class EquilateralTriangle(RegularPolygon):\n",
        "          def area(self,side):\n",
        "            return self.side * self.side * 0.433\n",
        "\n",
        "            sq=Square()\n",
        "            eq=EquilateralTriangle()\n",
        "            print(sq.area(2))"
      ],
      "metadata": {
        "id": "qCot4eaJ9vG4"
      },
      "execution_count": 3,
      "outputs": []
    },
    {
      "cell_type": "markdown",
      "source": [
        "Exercise 2"
      ],
      "metadata": {
        "id": "oQsymy8aCJDv"
      }
    },
    {
      "cell_type": "code",
      "source": [
        "def main():\n",
        "\n",
        "  class Shape:\n",
        "    def __init__(self, I, h):\n",
        "      self._length = I\n",
        "      self._height = h\n",
        "      class Retangle(Shape):\n",
        "        def area(self):\n",
        "         return self._length * self._height\n",
        "\n",
        "         class Triangle(Shape):\n",
        "           def area(self):\n",
        "             return (self._length * self._height)/2\n",
        "             calcuateArea = Rectangle(5,10)\n",
        "             print(\"Area of Rectangle is: \" + str(calcutateArea.area))\n",
        "             calcutateArea = Triangle(5,10)\n",
        "             print(\"area of Triangle is : \"+ str(calculateArea.area))\n",
        "             main()"
      ],
      "metadata": {
        "id": "cp-AXYGvCMwu"
      },
      "execution_count": 5,
      "outputs": []
    }
  ]
}