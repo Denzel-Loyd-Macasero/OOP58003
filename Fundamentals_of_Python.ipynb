{
  "nbformat": 4,
  "nbformat_minor": 0,
  "metadata": {
    "colab": {
      "name": "Fundamentals of Python",
      "provenance": [],
      "authorship_tag": "ABX9TyMmBJSDvpYBEBjStfz2Tcey",
      "include_colab_link": true
    },
    "kernelspec": {
      "name": "python3",
      "display_name": "Python 3"
    },
    "language_info": {
      "name": "python"
    }
  },
  "cells": [
    {
      "cell_type": "markdown",
      "metadata": {
        "id": "view-in-github",
        "colab_type": "text"
      },
      "source": [
        "<a href=\"https://colab.research.google.com/github/Denzel-Loyd-Macasero/OOP58003/blob/main/Fundamentals_of_Python.ipynb\" target=\"_parent\"><img src=\"https://colab.research.google.com/assets/colab-badge.svg\" alt=\"Open In Colab\"/></a>"
      ]
    },
    {
      "cell_type": "code",
      "execution_count": null,
      "metadata": {
        "id": "Mdvipi2tp8py"
      },
      "outputs": [],
      "source": [
        ""
      ]
    },
    {
      "cell_type": "markdown",
      "source": [
        "#Fundamentals of Python"
      ],
      "metadata": {
        "id": "NQhpbGBCqbgo"
      }
    },
    {
      "cell_type": "markdown",
      "source": [
        "python Indentation"
      ],
      "metadata": {
        "id": "2i6QdvA_rOG9"
      }
    },
    {
      "cell_type": "code",
      "source": [
        "if 5>2:\n",
        "  print(\"five is greater than two\")\n",
        "  "
      ],
      "metadata": {
        "colab": {
          "base_uri": "https://localhost:8080/"
        },
        "id": "8raKX191rRSE",
        "outputId": "d92f2c27-8ecc-4940-d876-c736cc9c7373"
      },
      "execution_count": 1,
      "outputs": [
        {
          "output_type": "stream",
          "name": "stdout",
          "text": [
            "five is greater tham two\n"
          ]
        }
      ]
    },
    {
      "cell_type": "markdown",
      "source": [
        "Python Comments"
      ],
      "metadata": {
        "id": "CkJKyqXRsIxs"
      }
    },
    {
      "cell_type": "code",
      "source": [
        "print(\"Hello World\")      #This is a comment"
      ],
      "metadata": {
        "colab": {
          "base_uri": "https://localhost:8080/"
        },
        "id": "549d3RjOsLhq",
        "outputId": "fa892ace-3d8a-42e3-a9a0-e3cfbe01201b"
      },
      "execution_count": 2,
      "outputs": [
        {
          "output_type": "stream",
          "name": "stdout",
          "text": [
            "Hello World\n"
          ]
        }
      ]
    },
    {
      "cell_type": "markdown",
      "source": [
        "Python Variables"
      ],
      "metadata": {
        "id": "qS8DdrQTtI-P"
      }
    },
    {
      "cell_type": "code",
      "source": [
        "a=1\n",
        "b,c=0,2\n",
        "c,d,e=2,3,4\n",
        "\n",
        "name=\"ana\"\n",
        "\n",
        "print(e)\n",
        "print(d)\n",
        "print(name)\n"
      ],
      "metadata": {
        "colab": {
          "base_uri": "https://localhost:8080/"
        },
        "id": "ynlZRcTptNKG",
        "outputId": "a1facfc1-6eec-49bb-ea25-093468976f0b"
      },
      "execution_count": 6,
      "outputs": [
        {
          "output_type": "stream",
          "name": "stdout",
          "text": [
            "4\n",
            "3\n",
            "ana\n"
          ]
        }
      ]
    },
    {
      "cell_type": "markdown",
      "source": [
        "Casting"
      ],
      "metadata": {
        "id": "Ao8Z5oWEt3aN"
      }
    },
    {
      "cell_type": "code",
      "source": [
        "a=int(1)\n",
        "b=float(4.50)\n",
        "\n",
        "print(type(a))\n",
        "print(type(b))"
      ],
      "metadata": {
        "colab": {
          "base_uri": "https://localhost:8080/"
        },
        "id": "S7Ikyl-Nt8x0",
        "outputId": "99660a05-2dec-445d-dfcf-afbdc81ed215"
      },
      "execution_count": 9,
      "outputs": [
        {
          "output_type": "stream",
          "name": "stdout",
          "text": [
            "<class 'int'>\n",
            "<class 'float'>\n"
          ]
        }
      ]
    },
    {
      "cell_type": "markdown",
      "source": [
        "Double quotes and Single Quotes"
      ],
      "metadata": {
        "id": "DwAzf97ZulGK"
      }
    },
    {
      "cell_type": "code",
      "source": [
        "name = 'John'\n",
        "\n",
        "print(name)"
      ],
      "metadata": {
        "colab": {
          "base_uri": "https://localhost:8080/"
        },
        "id": "483MvCPxuopB",
        "outputId": "cc10d01d-5528-4cc3-f212-8a9fadf86184"
      },
      "execution_count": 10,
      "outputs": [
        {
          "output_type": "stream",
          "name": "stdout",
          "text": [
            "John\n"
          ]
        }
      ]
    },
    {
      "cell_type": "markdown",
      "source": [
        "Case Sensitive"
      ],
      "metadata": {
        "id": "bzNWvT6Hu5Lp"
      }
    },
    {
      "cell_type": "code",
      "source": [
        "print(a)\n"
      ],
      "metadata": {
        "id": "ODUSnzG4u7hZ"
      },
      "execution_count": null,
      "outputs": []
    },
    {
      "cell_type": "markdown",
      "source": [
        "Output Variables"
      ],
      "metadata": {
        "id": "SpArXjDYwNx2"
      }
    },
    {
      "cell_type": "code",
      "source": [
        "print(\"welcome to Python Programming\")\n",
        "x=\"welcom to\"\n",
        "y=\"Python programming\""
      ],
      "metadata": {
        "colab": {
          "base_uri": "https://localhost:8080/"
        },
        "id": "PvVhkLGawQRp",
        "outputId": "c8690968-a11f-45c3-e588-a405e37a638a"
      },
      "execution_count": 11,
      "outputs": [
        {
          "output_type": "stream",
          "name": "stdout",
          "text": [
            "welcome to Python Programming\n"
          ]
        }
      ]
    },
    {
      "cell_type": "markdown",
      "source": [
        "Arithmetic Operations"
      ],
      "metadata": {
        "id": "INctbbEvw3lE"
      }
    },
    {
      "cell_type": "code",
      "source": [
        "print(1+1)\n",
        "print(1-1)\n",
        "print(1*1)\n",
        "print(1/1)\n",
        "print(int(1/1))\n",
        "print(3//2)\n",
        "print(3**2)"
      ],
      "metadata": {
        "colab": {
          "base_uri": "https://localhost:8080/"
        },
        "id": "Ilao5M82w6l8",
        "outputId": "8a55e299-2fc1-4652-fc31-48806e8b68bf"
      },
      "execution_count": 12,
      "outputs": [
        {
          "output_type": "stream",
          "name": "stdout",
          "text": [
            "2\n",
            "0\n",
            "1\n",
            "1.0\n",
            "1\n",
            "1\n",
            "9\n"
          ]
        }
      ]
    },
    {
      "cell_type": "markdown",
      "source": [
        "Assignment Operators"
      ],
      "metadata": {
        "id": "Z5dFunJmxm2Z"
      }
    },
    {
      "cell_type": "code",
      "source": [
        "p=5\n",
        "\n",
        "p%=2 #same as p = p%2\n",
        "print(p)"
      ],
      "metadata": {
        "colab": {
          "base_uri": "https://localhost:8080/"
        },
        "id": "8iTU3OuLxpm7",
        "outputId": "d4df264b-7af3-4367-dfa8-429c3b83d81e"
      },
      "execution_count": 13,
      "outputs": [
        {
          "output_type": "stream",
          "name": "stdout",
          "text": [
            "1\n"
          ]
        }
      ]
    },
    {
      "cell_type": "markdown",
      "source": [
        "Comaprison Operators"
      ],
      "metadata": {
        "id": "WWAAP7wYyM4Q"
      }
    },
    {
      "cell_type": "code",
      "source": [
        "s=11\n",
        "t=12\n",
        "\n",
        "s>t"
      ],
      "metadata": {
        "colab": {
          "base_uri": "https://localhost:8080/"
        },
        "id": "s4UER4CDyPBo",
        "outputId": "87fb2686-0c0b-48b4-f2ac-f9a894f2d223"
      },
      "execution_count": 14,
      "outputs": [
        {
          "output_type": "execute_result",
          "data": {
            "text/plain": [
              "False"
            ]
          },
          "metadata": {},
          "execution_count": 14
        }
      ]
    },
    {
      "cell_type": "markdown",
      "source": [
        "Logical Operator"
      ],
      "metadata": {
        "id": "58O0wWCRyazf"
      }
    },
    {
      "cell_type": "code",
      "source": [
        "s>t and t>s\n",
        "print(s>t or t>s)"
      ],
      "metadata": {
        "colab": {
          "base_uri": "https://localhost:8080/"
        },
        "id": "pR-HYMyTyeBS",
        "outputId": "300333fc-87cd-4d91-d4b8-fcc7516fa516"
      },
      "execution_count": 15,
      "outputs": [
        {
          "output_type": "execute_result",
          "data": {
            "text/plain": [
              "False"
            ]
          },
          "metadata": {},
          "execution_count": 15
        }
      ]
    },
    {
      "cell_type": "markdown",
      "source": [
        "Identity Operators"
      ],
      "metadata": {
        "id": "OG6UKKMg9IhE"
      }
    },
    {
      "cell_type": "code",
      "source": [
        "print(s>t or t>s) is True"
      ],
      "metadata": {
        "colab": {
          "base_uri": "https://localhost:8080/"
        },
        "id": "akIg0v2_9OhL",
        "outputId": "2ba3b892-f968-4aac-bff3-498f8e2a09de"
      },
      "execution_count": 16,
      "outputs": [
        {
          "output_type": "stream",
          "name": "stdout",
          "text": [
            "True\n"
          ]
        },
        {
          "output_type": "execute_result",
          "data": {
            "text/plain": [
              "False"
            ]
          },
          "metadata": {},
          "execution_count": 16
        }
      ]
    },
    {
      "cell_type": "markdown",
      "source": [
        "Bitwise Operator"
      ],
      "metadata": {
        "id": "neGtxva-9vkY"
      }
    },
    {
      "cell_type": "code",
      "source": [
        "q = 5 #binary 0\n",
        "v = 4\n",
        "\n",
        "print(5|4)\n",
        "print(5^4)"
      ],
      "metadata": {
        "colab": {
          "base_uri": "https://localhost:8080/"
        },
        "id": "F_UIAEfJ9zE4",
        "outputId": "bba5d442-47c6-4148-812f-60fa2431772e"
      },
      "execution_count": 18,
      "outputs": [
        {
          "output_type": "stream",
          "name": "stdout",
          "text": [
            "5\n",
            "1\n"
          ]
        }
      ]
    },
    {
      "cell_type": "markdown",
      "source": [
        "Input()Function"
      ],
      "metadata": {
        "id": "MYYI20U__Ive"
      }
    },
    {
      "cell_type": "code",
      "source": [
        "age = int(input())\n",
        "\n",
        "if age==18:\n",
        "print(\"yuor age is allowed to vote\")"
      ],
      "metadata": {
        "colab": {
          "base_uri": "https://localhost:8080/",
          "height": 130
        },
        "id": "mD2VBLf3_LlU",
        "outputId": "cefca489-317d-4495-f14e-c3b56bb15e2c"
      },
      "execution_count": 21,
      "outputs": [
        {
          "output_type": "error",
          "ename": "SyntaxError",
          "evalue": "ignored",
          "traceback": [
            "\u001b[0;36m  File \u001b[0;32m\"<ipython-input-21-8c0df0df8365>\"\u001b[0;36m, line \u001b[0;32m3\u001b[0m\n\u001b[0;31m    if age==18;\u001b[0m\n\u001b[0m              ^\u001b[0m\n\u001b[0;31mSyntaxError\u001b[0m\u001b[0;31m:\u001b[0m invalid syntax\n"
          ]
        }
      ]
    }
  ]
}