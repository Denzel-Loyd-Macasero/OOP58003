{
  "nbformat": 4,
  "nbformat_minor": 0,
  "metadata": {
    "colab": {
      "name": "Fundamentals of Python",
      "provenance": [],
      "include_colab_link": true
    },
    "kernelspec": {
      "name": "python3",
      "display_name": "Python 3"
    },
    "language_info": {
      "name": "python"
    }
  },
  "cells": [
    {
      "cell_type": "markdown",
      "metadata": {
        "id": "view-in-github",
        "colab_type": "text"
      },
      "source": [
        "<a href=\"https://colab.research.google.com/github/Denzel-Loyd-Macasero/OOP58003/blob/main/Fundamentals_of_Python.ipynb\" target=\"_parent\"><img src=\"https://colab.research.google.com/assets/colab-badge.svg\" alt=\"Open In Colab\"/></a>"
      ]
    },
    {
      "cell_type": "code",
      "execution_count": null,
      "metadata": {
        "id": "Mdvipi2tp8py"
      },
      "outputs": [],
      "source": [
        ""
      ]
    },
    {
      "cell_type": "markdown",
      "source": [
        "#Fundamentals of Python"
      ],
      "metadata": {
        "id": "NQhpbGBCqbgo"
      }
    },
    {
      "cell_type": "markdown",
      "source": [
        "python Indentation"
      ],
      "metadata": {
        "id": "2i6QdvA_rOG9"
      }
    },
    {
      "cell_type": "code",
      "source": [
        "if 5>2:\n",
        "  print(\"five is greater than two\")\n",
        "  "
      ],
      "metadata": {
        "colab": {
          "base_uri": "https://localhost:8080/"
        },
        "id": "8raKX191rRSE",
        "outputId": "d92f2c27-8ecc-4940-d876-c736cc9c7373"
      },
      "execution_count": null,
      "outputs": [
        {
          "output_type": "stream",
          "name": "stdout",
          "text": [
            "five is greater tham two\n"
          ]
        }
      ]
    },
    {
      "cell_type": "markdown",
      "source": [
        "Python Comments"
      ],
      "metadata": {
        "id": "CkJKyqXRsIxs"
      }
    },
    {
      "cell_type": "code",
      "source": [
        "print(\"Hello World\")      #This is a comment"
      ],
      "metadata": {
        "colab": {
          "base_uri": "https://localhost:8080/"
        },
        "id": "549d3RjOsLhq",
        "outputId": "fa892ace-3d8a-42e3-a9a0-e3cfbe01201b"
      },
      "execution_count": null,
      "outputs": [
        {
          "output_type": "stream",
          "name": "stdout",
          "text": [
            "Hello World\n"
          ]
        }
      ]
    },
    {
      "cell_type": "markdown",
      "source": [
        "Python Variables"
      ],
      "metadata": {
        "id": "qS8DdrQTtI-P"
      }
    },
    {
      "cell_type": "code",
      "source": [
        "a=1\n",
        "b,c=0,2\n",
        "c,d,e=2,3,4\n",
        "\n",
        "name=\"ana\"\n",
        "\n",
        "print(e)\n",
        "print(d)\n",
        "print(name)\n"
      ],
      "metadata": {
        "colab": {
          "base_uri": "https://localhost:8080/"
        },
        "id": "ynlZRcTptNKG",
        "outputId": "a1facfc1-6eec-49bb-ea25-093468976f0b"
      },
      "execution_count": null,
      "outputs": [
        {
          "output_type": "stream",
          "name": "stdout",
          "text": [
            "4\n",
            "3\n",
            "ana\n"
          ]
        }
      ]
    },
    {
      "cell_type": "markdown",
      "source": [
        "Casting"
      ],
      "metadata": {
        "id": "Ao8Z5oWEt3aN"
      }
    },
    {
      "cell_type": "code",
      "source": [
        "a=int(1)\n",
        "b=float(4.50)\n",
        "\n",
        "print(type(a))\n",
        "print(type(b))"
      ],
      "metadata": {
        "colab": {
          "base_uri": "https://localhost:8080/"
        },
        "id": "S7Ikyl-Nt8x0",
        "outputId": "99660a05-2dec-445d-dfcf-afbdc81ed215"
      },
      "execution_count": null,
      "outputs": [
        {
          "output_type": "stream",
          "name": "stdout",
          "text": [
            "<class 'int'>\n",
            "<class 'float'>\n"
          ]
        }
      ]
    },
    {
      "cell_type": "markdown",
      "source": [
        "Double quotes and Single Quotes"
      ],
      "metadata": {
        "id": "DwAzf97ZulGK"
      }
    },
    {
      "cell_type": "code",
      "source": [
        "name = 'John'\n",
        "\n",
        "print(name)"
      ],
      "metadata": {
        "colab": {
          "base_uri": "https://localhost:8080/"
        },
        "id": "483MvCPxuopB",
        "outputId": "cc10d01d-5528-4cc3-f212-8a9fadf86184"
      },
      "execution_count": null,
      "outputs": [
        {
          "output_type": "stream",
          "name": "stdout",
          "text": [
            "John\n"
          ]
        }
      ]
    },
    {
      "cell_type": "markdown",
      "source": [
        "Case Sensitive"
      ],
      "metadata": {
        "id": "bzNWvT6Hu5Lp"
      }
    },
    {
      "cell_type": "code",
      "source": [
        "print(a)\n"
      ],
      "metadata": {
        "id": "ODUSnzG4u7hZ"
      },
      "execution_count": null,
      "outputs": []
    },
    {
      "cell_type": "markdown",
      "source": [
        "Output Variables"
      ],
      "metadata": {
        "id": "SpArXjDYwNx2"
      }
    },
    {
      "cell_type": "code",
      "source": [
        "print(\"welcome to Python Programming\")\n",
        "x=\"welcom to\"\n",
        "y=\"Python programming\""
      ],
      "metadata": {
        "colab": {
          "base_uri": "https://localhost:8080/"
        },
        "id": "PvVhkLGawQRp",
        "outputId": "c8690968-a11f-45c3-e588-a405e37a638a"
      },
      "execution_count": null,
      "outputs": [
        {
          "output_type": "stream",
          "name": "stdout",
          "text": [
            "welcome to Python Programming\n"
          ]
        }
      ]
    },
    {
      "cell_type": "markdown",
      "source": [
        "Arithmetic Operations"
      ],
      "metadata": {
        "id": "INctbbEvw3lE"
      }
    },
    {
      "cell_type": "code",
      "source": [
        "print(1+1)\n",
        "print(1-1)\n",
        "print(1*1)\n",
        "print(1/1)\n",
        "print(int(1/1))\n",
        "print(3//2)\n",
        "print(3**2)"
      ],
      "metadata": {
        "colab": {
          "base_uri": "https://localhost:8080/"
        },
        "id": "Ilao5M82w6l8",
        "outputId": "8a55e299-2fc1-4652-fc31-48806e8b68bf"
      },
      "execution_count": null,
      "outputs": [
        {
          "output_type": "stream",
          "name": "stdout",
          "text": [
            "2\n",
            "0\n",
            "1\n",
            "1.0\n",
            "1\n",
            "1\n",
            "9\n"
          ]
        }
      ]
    },
    {
      "cell_type": "markdown",
      "source": [
        "Assignment Operators"
      ],
      "metadata": {
        "id": "Z5dFunJmxm2Z"
      }
    },
    {
      "cell_type": "code",
      "source": [
        "p=5\n",
        "\n",
        "p%=2 #same as p = p%2\n",
        "print(p)"
      ],
      "metadata": {
        "colab": {
          "base_uri": "https://localhost:8080/"
        },
        "id": "8iTU3OuLxpm7",
        "outputId": "d4df264b-7af3-4367-dfa8-429c3b83d81e"
      },
      "execution_count": null,
      "outputs": [
        {
          "output_type": "stream",
          "name": "stdout",
          "text": [
            "1\n"
          ]
        }
      ]
    },
    {
      "cell_type": "markdown",
      "source": [
        "Comaprison Operators"
      ],
      "metadata": {
        "id": "WWAAP7wYyM4Q"
      }
    },
    {
      "cell_type": "code",
      "source": [
        "s=11\n",
        "t=12\n",
        "\n",
        "s>t"
      ],
      "metadata": {
        "colab": {
          "base_uri": "https://localhost:8080/"
        },
        "id": "s4UER4CDyPBo",
        "outputId": "87fb2686-0c0b-48b4-f2ac-f9a894f2d223"
      },
      "execution_count": null,
      "outputs": [
        {
          "output_type": "execute_result",
          "data": {
            "text/plain": [
              "False"
            ]
          },
          "metadata": {},
          "execution_count": 14
        }
      ]
    },
    {
      "cell_type": "markdown",
      "source": [
        "Logical Operator"
      ],
      "metadata": {
        "id": "58O0wWCRyazf"
      }
    },
    {
      "cell_type": "code",
      "source": [
        "s>t and t>s\n",
        "print(s>t or t>s)"
      ],
      "metadata": {
        "colab": {
          "base_uri": "https://localhost:8080/"
        },
        "id": "pR-HYMyTyeBS",
        "outputId": "300333fc-87cd-4d91-d4b8-fcc7516fa516"
      },
      "execution_count": null,
      "outputs": [
        {
          "output_type": "execute_result",
          "data": {
            "text/plain": [
              "False"
            ]
          },
          "metadata": {},
          "execution_count": 15
        }
      ]
    },
    {
      "cell_type": "markdown",
      "source": [
        "Identity Operators"
      ],
      "metadata": {
        "id": "OG6UKKMg9IhE"
      }
    },
    {
      "cell_type": "code",
      "source": [
        "print(s>t or t>s) is True"
      ],
      "metadata": {
        "colab": {
          "base_uri": "https://localhost:8080/"
        },
        "id": "akIg0v2_9OhL",
        "outputId": "2ba3b892-f968-4aac-bff3-498f8e2a09de"
      },
      "execution_count": null,
      "outputs": [
        {
          "output_type": "stream",
          "name": "stdout",
          "text": [
            "True\n"
          ]
        },
        {
          "output_type": "execute_result",
          "data": {
            "text/plain": [
              "False"
            ]
          },
          "metadata": {},
          "execution_count": 16
        }
      ]
    },
    {
      "cell_type": "markdown",
      "source": [
        "Bitwise Operator"
      ],
      "metadata": {
        "id": "neGtxva-9vkY"
      }
    },
    {
      "cell_type": "code",
      "source": [
        "q = 5 #binary 0\n",
        "v = 4\n",
        "\n",
        "print(5|4)\n",
        "print(5^4)"
      ],
      "metadata": {
        "colab": {
          "base_uri": "https://localhost:8080/"
        },
        "id": "F_UIAEfJ9zE4",
        "outputId": "bba5d442-47c6-4148-812f-60fa2431772e"
      },
      "execution_count": null,
      "outputs": [
        {
          "output_type": "stream",
          "name": "stdout",
          "text": [
            "5\n",
            "1\n"
          ]
        }
      ]
    },
    {
      "cell_type": "markdown",
      "source": [
        "Input()Function"
      ],
      "metadata": {
        "id": "MYYI20U__Ive"
      }
    },
    {
      "cell_type": "markdown",
      "source": [
        ""
      ],
      "metadata": {
        "id": "ZDaqcda8vt01"
      }
    },
    {
      "cell_type": "code",
      "source": [
        "age = int(input())\n",
        "\n",
        "if age==18:\n",
        "print(\"yuor age is allowed to vote\")"
      ],
      "metadata": {
        "colab": {
          "base_uri": "https://localhost:8080/",
          "height": 130
        },
        "id": "mD2VBLf3_LlU",
        "outputId": "cefca489-317d-4495-f14e-c3b56bb15e2c"
      },
      "execution_count": null,
      "outputs": [
        {
          "output_type": "error",
          "ename": "SyntaxError",
          "evalue": "ignored",
          "traceback": [
            "\u001b[0;36m  File \u001b[0;32m\"<ipython-input-21-8c0df0df8365>\"\u001b[0;36m, line \u001b[0;32m3\u001b[0m\n\u001b[0;31m    if age==18;\u001b[0m\n\u001b[0m              ^\u001b[0m\n\u001b[0;31mSyntaxError\u001b[0m\u001b[0;31m:\u001b[0m invalid syntax\n"
          ]
        }
      ]
    },
    {
      "cell_type": "markdown",
      "source": [
        "Boolean Operators\n",
        "\n"
      ],
      "metadata": {
        "id": "n2qzhP8SvvLm"
      }
    },
    {
      "cell_type": "markdown",
      "source": [
        ""
      ],
      "metadata": {
        "id": "eqLKjIWWwBSN"
      }
    },
    {
      "cell_type": "code",
      "source": [
        "a=10\n",
        "\n",
        "print(10>9)\n",
        "print(10<9)\n",
        "print(10==9)"
      ],
      "metadata": {
        "id": "75YqnCK8v0yF",
        "outputId": "159f637c-e2e7-43bb-fbe1-770497e34b5b",
        "colab": {
          "base_uri": "https://localhost:8080/"
        }
      },
      "execution_count": 1,
      "outputs": [
        {
          "output_type": "stream",
          "name": "stdout",
          "text": [
            "True\n",
            "False\n",
            "False\n"
          ]
        }
      ]
    },
    {
      "cell_type": "markdown",
      "source": [
        "bool() Function"
      ],
      "metadata": {
        "id": "QVYLgNErwHnM"
      }
    },
    {
      "cell_type": "code",
      "source": [
        ""
      ],
      "metadata": {
        "id": "iez2M9zVwNFV"
      },
      "execution_count": null,
      "outputs": []
    },
    {
      "cell_type": "markdown",
      "source": [
        "Fucntions can Return a Boolean"
      ],
      "metadata": {
        "id": "ulJi4Focw8gF"
      }
    },
    {
      "cell_type": "code",
      "source": [
        "def myFunction():\n",
        " return True\n",
        "print(myFunction)"
      ],
      "metadata": {
        "id": "CvXZHZOpxAHr",
        "outputId": "cf5e57b3-fdf3-408d-d157-9c55a1e175b8",
        "colab": {
          "base_uri": "https://localhost:8080/"
        }
      },
      "execution_count": 19,
      "outputs": [
        {
          "output_type": "stream",
          "name": "stdout",
          "text": [
            "<function myFunction at 0x7fa7720a0c20>\n"
          ]
        }
      ]
    },
    {
      "cell_type": "markdown",
      "source": [
        ""
      ],
      "metadata": {
        "id": "2YdwjIuVxRXb"
      }
    },
    {
      "cell_type": "code",
      "source": [
        "a=6\n",
        "b=7\n",
        "\n",
        "print(a==b)\n",
        "print(a!=a)"
      ],
      "metadata": {
        "id": "anOSxQ7gycXy",
        "outputId": "f79252a0-42b1-4c0f-fb30-f37e3981bdd0",
        "colab": {
          "base_uri": "https://localhost:8080/"
        }
      },
      "execution_count": 4,
      "outputs": [
        {
          "output_type": "stream",
          "name": "stdout",
          "text": [
            "False\n",
            "False\n"
          ]
        }
      ]
    },
    {
      "cell_type": "markdown",
      "source": [
        "Bitwise Operation"
      ],
      "metadata": {
        "id": "O54FiD861Nbi"
      }
    },
    {
      "cell_type": "code",
      "source": [
        "a=60\n",
        "b=13\n",
        "\n",
        "print(a&b)\n",
        "print(a|b)\n",
        "print(a^b)\n",
        "print(a<<1)\n",
        "print(a>>1)"
      ],
      "metadata": {
        "id": "O1E1r5DO1PbK",
        "outputId": "f28a080d-a3f4-4716-e973-9d990aa6c328",
        "colab": {
          "base_uri": "https://localhost:8080/"
        }
      },
      "execution_count": 7,
      "outputs": [
        {
          "output_type": "stream",
          "name": "stdout",
          "text": [
            "12\n",
            "61\n",
            "49\n",
            "120\n",
            "30\n"
          ]
        }
      ]
    },
    {
      "cell_type": "markdown",
      "source": [
        "Logical Operators"
      ],
      "metadata": {
        "id": "DSi-O3Zq3Cd3"
      }
    },
    {
      "cell_type": "code",
      "source": [
        "s=True\n",
        "t=False\n",
        "\n",
        "not(s and t)"
      ],
      "metadata": {
        "id": "0qlMhmuj4kKa",
        "outputId": "11b1e18d-ed34-4df9-ad7b-877ac1e76866",
        "colab": {
          "base_uri": "https://localhost:8080/"
        }
      },
      "execution_count": 8,
      "outputs": [
        {
          "output_type": "execute_result",
          "data": {
            "text/plain": [
              "True"
            ]
          },
          "metadata": {},
          "execution_count": 8
        }
      ]
    },
    {
      "cell_type": "markdown",
      "source": [
        "Control stucture"
      ],
      "metadata": {
        "id": "7yB3mdD25YOp"
      }
    },
    {
      "cell_type": "markdown",
      "source": [
        "if statement"
      ],
      "metadata": {
        "id": "ritmos1a5cYH"
      }
    },
    {
      "cell_type": "code",
      "source": [
        "g=100\n",
        "h=60\n",
        "\n",
        "if g>h:\n",
        "  print(\"g is greater than h\")"
      ],
      "metadata": {
        "id": "II4safye50A_",
        "outputId": "d006bf77-059d-443a-e84c-1326322285e6",
        "colab": {
          "base_uri": "https://localhost:8080/"
        }
      },
      "execution_count": 9,
      "outputs": [
        {
          "output_type": "stream",
          "name": "stdout",
          "text": [
            "g is greater than h\n"
          ]
        }
      ]
    },
    {
      "cell_type": "markdown",
      "source": [
        "Elif Statement"
      ],
      "metadata": {
        "id": "8uplyYJX6DNm"
      }
    },
    {
      "cell_type": "code",
      "source": [
        "elif g<h:\n",
        "   print(\"g is greater than h\")\n",
        "  else:\n",
        "       print(\"g is greater than h\")"
      ],
      "metadata": {
        "id": "94h8kJT06F5O",
        "outputId": "46be747f-9a2b-4191-f3ea-39d33cf00d21",
        "colab": {
          "base_uri": "https://localhost:8080/",
          "height": 130
        }
      },
      "execution_count": 13,
      "outputs": [
        {
          "output_type": "error",
          "ename": "SyntaxError",
          "evalue": "ignored",
          "traceback": [
            "\u001b[0;36m  File \u001b[0;32m\"<ipython-input-13-049786d16b1a>\"\u001b[0;36m, line \u001b[0;32m1\u001b[0m\n\u001b[0;31m    elif g<h:\u001b[0m\n\u001b[0m       ^\u001b[0m\n\u001b[0;31mSyntaxError\u001b[0m\u001b[0;31m:\u001b[0m invalid syntax\n"
          ]
        }
      ]
    },
    {
      "cell_type": "markdown",
      "source": [
        "Short hand if Statement"
      ],
      "metadata": {
        "id": "15c96UZY6p59"
      }
    },
    {
      "cell_type": "code",
      "source": [
        "if g==h: print(\"g is equal to h\")"
      ],
      "metadata": {
        "id": "kmwVHbJZ6r9V"
      },
      "execution_count": 14,
      "outputs": []
    },
    {
      "cell_type": "markdown",
      "source": [
        "Nested if else"
      ],
      "metadata": {
        "id": "DqhFiKja7nPL"
      }
    },
    {
      "cell_type": "code",
      "source": [
        "x=41\n",
        "\n",
        "if x>10:\n",
        "  print(\"x is above 10\")\n",
        "  if x>20:\n",
        "   print(\"and also above 20\")\n",
        "  if x>30:\n",
        "    print(\"and also above 40\")\n",
        "\n",
        "    \n"
      ],
      "metadata": {
        "id": "6n_1kftY7pZ7",
        "outputId": "a63da31a-8952-4051-cc53-f13a7fd8dc26",
        "colab": {
          "base_uri": "https://localhost:8080/"
        }
      },
      "execution_count": 18,
      "outputs": [
        {
          "output_type": "stream",
          "name": "stdout",
          "text": [
            "x is above 10\n",
            "and also above 20\n",
            "and also above 40\n"
          ]
        }
      ]
    },
    {
      "cell_type": "markdown",
      "source": [
        "#**Application3**"
      ],
      "metadata": {
        "id": "ooVTWITP8x5A"
      }
    },
    {
      "cell_type": "code",
      "source": [
        "age=int(input())\n",
        "\n"
      ],
      "metadata": {
        "id": "TIMrhLbjAQYb"
      },
      "execution_count": null,
      "outputs": []
    },
    {
      "cell_type": "markdown",
      "source": [
        "LOOP statement\n"
      ],
      "metadata": {
        "id": "PIg5luirBXVn"
      }
    },
    {
      "cell_type": "code",
      "source": [
        "week = ['Sunday','Monday', 'Tuesday', 'Wednesday', \"Thursday\", \"Friday\", 'Saturday']\n",
        "season = ['rainy', 'sunny']\n",
        "\n",
        "for x in week:\n",
        " for y in season:\n",
        "  print(y,x)"
      ],
      "metadata": {
        "id": "UMYX9-TxBY-G",
        "outputId": "1961656c-8aa0-4ed8-e046-9f9df26d5659",
        "colab": {
          "base_uri": "https://localhost:8080/"
        }
      },
      "execution_count": 17,
      "outputs": [
        {
          "output_type": "stream",
          "name": "stdout",
          "text": [
            "rainy Sunday\n",
            "sunny Sunday\n",
            "rainy Monday\n",
            "sunny Monday\n",
            "rainy Tuesday\n",
            "sunny Tuesday\n",
            "rainy Wednesday\n",
            "sunny Wednesday\n",
            "rainy Thursday\n",
            "sunny Thursday\n",
            "rainy Friday\n",
            "sunny Friday\n",
            "rainy Saturday\n",
            "sunny Saturday\n"
          ]
        }
      ]
    },
    {
      "cell_type": "markdown",
      "source": [
        "**Application**"
      ],
      "metadata": {
        "id": "MA1KCLOeDtfJ"
      }
    },
    {
      "cell_type": "code",
      "source": [
        "for x in week:\n",
        "  if x==\"Friday\":\n",
        "   print(x)\n",
        "  break"
      ],
      "metadata": {
        "id": "NseoLJp6ErJ_"
      },
      "execution_count": 21,
      "outputs": []
    },
    {
      "cell_type": "markdown",
      "source": [
        "While Loop"
      ],
      "metadata": {
        "id": "Tsqp8ABEE_af"
      }
    },
    {
      "cell_type": "code",
      "source": [
        "i=1\n",
        "\n",
        "while i<6:\n",
        "  print(i)\n",
        "  i+=1"
      ],
      "metadata": {
        "id": "8Shqg8xiFAvn",
        "outputId": "1f2c07a6-c4f9-45d4-cdfe-eab2c66f3e3f",
        "colab": {
          "base_uri": "https://localhost:8080/"
        }
      },
      "execution_count": 23,
      "outputs": [
        {
          "output_type": "stream",
          "name": "stdout",
          "text": [
            "1\n",
            "2\n",
            "3\n",
            "4\n",
            "5\n"
          ]
        }
      ]
    },
    {
      "cell_type": "markdown",
      "source": [
        "**Application5**"
      ],
      "metadata": {
        "id": "7SBYZtypFdm1"
      }
    },
    {
      "cell_type": "code",
      "source": [
        "i=1\n",
        "\n",
        "while i<6:\n",
        "  if i==2:\n",
        "    print(i)\n",
        "    break\n",
        "    i+=1\n",
        "    \n"
      ],
      "metadata": {
        "id": "Iu2IQwTiFpi1",
        "outputId": "fa83fcb8-7c0f-45e5-bbd5-5e8f3e155c9d",
        "colab": {
          "base_uri": "https://localhost:8080/",
          "height": 235
        }
      },
      "execution_count": 27,
      "outputs": [
        {
          "output_type": "error",
          "ename": "KeyboardInterrupt",
          "evalue": "ignored",
          "traceback": [
            "\u001b[0;31m---------------------------------------------------------------------------\u001b[0m",
            "\u001b[0;31mKeyboardInterrupt\u001b[0m                         Traceback (most recent call last)",
            "\u001b[0;32m<ipython-input-27-416ec9888091>\u001b[0m in \u001b[0;36m<module>\u001b[0;34m()\u001b[0m\n\u001b[1;32m      2\u001b[0m \u001b[0;34m\u001b[0m\u001b[0m\n\u001b[1;32m      3\u001b[0m \u001b[0;32mwhile\u001b[0m \u001b[0mi\u001b[0m\u001b[0;34m<\u001b[0m\u001b[0;36m6\u001b[0m\u001b[0;34m:\u001b[0m\u001b[0;34m\u001b[0m\u001b[0;34m\u001b[0m\u001b[0m\n\u001b[0;32m----> 4\u001b[0;31m   \u001b[0;32mif\u001b[0m \u001b[0mi\u001b[0m\u001b[0;34m==\u001b[0m\u001b[0;36m2\u001b[0m\u001b[0;34m:\u001b[0m\u001b[0;34m\u001b[0m\u001b[0;34m\u001b[0m\u001b[0m\n\u001b[0m\u001b[1;32m      5\u001b[0m     \u001b[0mprint\u001b[0m\u001b[0;34m(\u001b[0m\u001b[0mi\u001b[0m\u001b[0;34m)\u001b[0m\u001b[0;34m\u001b[0m\u001b[0;34m\u001b[0m\u001b[0m\n\u001b[1;32m      6\u001b[0m     \u001b[0;32mbreak\u001b[0m\u001b[0;34m\u001b[0m\u001b[0;34m\u001b[0m\u001b[0m\n",
            "\u001b[0;31mKeyboardInterrupt\u001b[0m: "
          ]
        }
      ]
    }
  ]
}