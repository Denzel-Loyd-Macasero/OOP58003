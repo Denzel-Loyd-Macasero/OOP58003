{
  "nbformat": 4,
  "nbformat_minor": 0,
  "metadata": {
    "colab": {
      "name": "Self-paced Materials.ipynb",
      "provenance": [],
      "authorship_tag": "ABX9TyNxHQKmMPSjCHYU4vBmsedY",
      "include_colab_link": true
    },
    "kernelspec": {
      "name": "python3",
      "display_name": "Python 3"
    },
    "language_info": {
      "name": "python"
    }
  },
  "cells": [
    {
      "cell_type": "markdown",
      "metadata": {
        "id": "view-in-github",
        "colab_type": "text"
      },
      "source": [
        "<a href=\"https://colab.research.google.com/github/Denzel-Loyd-Macasero/OOP58003/blob/main/Self_paced_Materials.ipynb\" target=\"_parent\"><img src=\"https://colab.research.google.com/assets/colab-badge.svg\" alt=\"Open In Colab\"/></a>"
      ]
    },
    {
      "cell_type": "code",
      "execution_count": null,
      "metadata": {
        "id": "eU4mXr4F1hCK"
      },
      "outputs": [],
      "source": [
        "from tkinter import *\n",
        "class MyWindow:\n",
        "  def __init__(self, win):\n",
        "        self.lbl1=Label(win, text='First number')\n",
        "        self.lbl2=Label(win, text='Second number')\n",
        "        self.lbl3=Label(win, text='Result')\n",
        "        self.t1=Entry(bd=3)\n",
        "        self.t2=Entry()\n",
        "        self.t3=Entry()\n",
        "        self.btn1 = Button(win, text='Add')\n",
        "        self.btn2=Button(win, text='Subtract')\n",
        "        self.lbl1.place(x=100, y=50)\n",
        "        self.t1.place(x=200, y=50)\n",
        "        self.lbl2.place(x=100, y=100)\n",
        "        self.t2.place(x=200, y=100)\n",
        "        self.b1=Button(win, text='Add', command=self.add)\n",
        "        self.b2=Button(win, text='Subtract')\n",
        "        self.b2.bind('<Button-1>', self.sub)\n",
        "        self.b1.place(x=100, y=150)\n",
        "        self.b2.place(x=200, y=150)\n",
        "        self.lbl3.place(x=100, y=200)\n",
        "        self.t3.place(x=200, y=200)\n",
        "        def add(self):\n",
        "        self.t3.delete(0, 'end')\n",
        "        num1=int(self.t1.get())\n",
        "        num2=int(self.t2.get())\n",
        "        result=num1+num2\n",
        "        self.t3.insert(END, str(result))\n",
        "    def sub(self, event):\n",
        "        self.t3.delete(0, 'end')\n",
        "        num1=int(self.t1.get())\n",
        "        num2=int(self.t2.get())\n",
        "        result=num1-num2\n",
        "        self.t3.insert(END, str(result))\n",
        "\n",
        "window=Tk()\n",
        "mywin=MyWindow(window)\n",
        "window.title('Hello Python')\n",
        "window.geometry(\"400x300+10+10\")\n",
        "window.mainloop()\n",
        "\n",
        "\n"
      ]
    }
  ]
}