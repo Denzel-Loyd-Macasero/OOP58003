{
  "nbformat": 4,
  "nbformat_minor": 0,
  "metadata": {
    "colab": {
      "name": "Concepts of OOP",
      "provenance": [],
      "authorship_tag": "ABX9TyMqDxwNIAzEI5utHnJnkQR2",
      "include_colab_link": true
    },
    "kernelspec": {
      "name": "python3",
      "display_name": "Python 3"
    },
    "language_info": {
      "name": "python"
    }
  },
  "cells": [
    {
      "cell_type": "markdown",
      "metadata": {
        "id": "view-in-github",
        "colab_type": "text"
      },
      "source": [
        "<a href=\"https://colab.research.google.com/github/Denzel-Loyd-Macasero/OOP58003/blob/main/Concepts_of_OOP.ipynb\" target=\"_parent\"><img src=\"https://colab.research.google.com/assets/colab-badge.svg\" alt=\"Open In Colab\"/></a>"
      ]
    },
    {
      "cell_type": "code",
      "source": [
        ""
      ],
      "metadata": {
        "id": "3WlJTJcSx3xu"
      },
      "execution_count": null,
      "outputs": []
    },
    {
      "cell_type": "markdown",
      "source": [
        "Concepts of OOP"
      ],
      "metadata": {
        "id": "h84fxzoBx06D"
      }
    },
    {
      "cell_type": "code",
      "source": [
        "class Car:\n",
        "  pass\n"
      ],
      "metadata": {
        "id": "FT0XZCoMx7wo"
      },
      "execution_count": null,
      "outputs": []
    },
    {
      "cell_type": "code",
      "source": [
        "class Car:\n",
        "    def__init__(self,brand,mileage):\n",
        "    self.brand=brand                     #attribute names for class Car\n",
        "    self.mileage\n",
        "\n",
        "    def description(self):\n",
        "      return \"The brand\" + self.brand + \"has a mileage of\" + self.mileage\n",
        "\n",
        "      def display(self):\n",
        "        print(\"The brand\" + self.brand + \"has a mileage of\" + self.mileage, self.description)\n",
        "\n",
        "        car1 = Car(\"Honda City\", 24.1)\n",
        "        print(car1.description())"
      ],
      "metadata": {
        "colab": {
          "base_uri": "https://localhost:8080/",
          "height": 130
        },
        "id": "og7kIbE3zYF-",
        "outputId": "53cbe300-0ca2-46a5-830e-6ce3a9befef8"
      },
      "execution_count": 2,
      "outputs": [
        {
          "output_type": "error",
          "ename": "SyntaxError",
          "evalue": "ignored",
          "traceback": [
            "\u001b[0;36m  File \u001b[0;32m\"<ipython-input-2-459e4713d310>\"\u001b[0;36m, line \u001b[0;32m2\u001b[0m\n\u001b[0;31m    def__init__(self,brand,mileage):\u001b[0m\n\u001b[0m                                    ^\u001b[0m\n\u001b[0;31mSyntaxError\u001b[0m\u001b[0;31m:\u001b[0m invalid syntax\n"
          ]
        }
      ]
    },
    {
      "cell_type": "code",
      "source": [
        "car1.brand = \"Toyota\"\n",
        "print(car1.brand)"
      ],
      "metadata": {
        "id": "VTNOQABj3rXY"
      },
      "execution_count": null,
      "outputs": []
    },
    {
      "cell_type": "code",
      "source": [
        ""
      ],
      "metadata": {
        "id": "p1MDqF3-3pZt"
      },
      "execution_count": null,
      "outputs": []
    },
    {
      "cell_type": "markdown",
      "source": [
        "Application 1- write a python program thar computes for the area and perimeter of rectangle. Name Rectangle as class name, and length and width as atribute names"
      ],
      "metadata": {
        "id": "4tDgaZOn4t_q"
      }
    },
    {
      "cell_type": "code",
      "source": [
        "class Rectangle:\n",
        "  def__init__(self, length, width):\n",
        "   self.length = length\n",
        "   self.width = width\n",
        "\n",
        "   def Area(self):\n",
        "     return 2* self.length*self.width\n",
        "\n",
        "     def Perimeter(self):\n",
        "\n",
        "       def display(self):\n",
        "         print(\"The Area of the rectangle is\", self.Area())\n",
        "         print(\"The Perimiter of the rectangle is\",self.Perimeter())\n",
        "\n",
        "         rectangle = Rectangle(7.45)\n",
        "         print(retangle.display())"
      ],
      "metadata": {
        "colab": {
          "base_uri": "https://localhost:8080/",
          "height": 130
        },
        "id": "a4_-QQ584_QI",
        "outputId": "67dbb0e3-c5fa-4b84-a3a8-f28d621faa44"
      },
      "execution_count": 3,
      "outputs": [
        {
          "output_type": "error",
          "ename": "SyntaxError",
          "evalue": "ignored",
          "traceback": [
            "\u001b[0;36m  File \u001b[0;32m\"<ipython-input-3-388f1a2045e5>\"\u001b[0;36m, line \u001b[0;32m2\u001b[0m\n\u001b[0;31m    def__init__(self, length, width):\u001b[0m\n\u001b[0m                                     ^\u001b[0m\n\u001b[0;31mSyntaxError\u001b[0m\u001b[0;31m:\u001b[0m invalid syntax\n"
          ]
        }
      ]
    },
    {
      "cell_type": "markdown",
      "source": [
        "Application 2- write a python program that displays your fullname(Surname, First Name), and name your class as OOP_58003"
      ],
      "metadata": {
        "id": "iVMGTNkr-kwj"
      }
    }
  ]
}