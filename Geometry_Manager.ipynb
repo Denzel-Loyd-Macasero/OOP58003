{
  "nbformat": 4,
  "nbformat_minor": 0,
  "metadata": {
    "colab": {
      "name": "Geometry Manager.ipynb",
      "provenance": [],
      "authorship_tag": "ABX9TyPaCgTzfWcVg6XcfQ5Vor79",
      "include_colab_link": true
    },
    "kernelspec": {
      "name": "python3",
      "display_name": "Python 3"
    },
    "language_info": {
      "name": "python"
    }
  },
  "cells": [
    {
      "cell_type": "markdown",
      "metadata": {
        "id": "view-in-github",
        "colab_type": "text"
      },
      "source": [
        "<a href=\"https://colab.research.google.com/github/Denzel-Loyd-Macasero/OOP58003/blob/main/Geometry_Manager.ipynb\" target=\"_parent\"><img src=\"https://colab.research.google.com/assets/colab-badge.svg\" alt=\"Open In Colab\"/></a>"
      ]
    },
    {
      "cell_type": "code",
      "execution_count": null,
      "metadata": {
        "id": "08kcsIlwdnMi"
      },
      "outputs": [],
      "source": [
        "from tkinter import *\n",
        "\n",
        "window = Tk0()\n",
        "window.title(\"Geometry Manager\")\n",
        "window.geometry(\"400x300+20+10\")\n",
        "\n",
        "entry = Entry(window)\n",
        "entry.grid(row=0, column = 0)\n",
        "\n",
        "entry1 = Entry(window)\n",
        "entry1.grid(row=0, column= 1, padx=2)\n",
        "\n",
        "entry2 = Entry(window)\n",
        "entry2.grid(row=0, column = 2, padx=4)\n",
        "\n",
        "#simple calculator\n",
        "\n",
        "lbl1 = Label(window, text=\" Standard Calculator\")\n",
        "lbl1.grid(row=1, column=0)\n",
        "\n",
        "lbl2 = Label(window, text=\"Input the 1st number:\")\n",
        "lbl2.grid(row=2, column=1)\n",
        "\n",
        "lbl3 = Entry(window, text=\"Input the 2nd number:\")\n",
        "lbl3.grid(row=3, column=0)\n",
        "\n",
        "entry3 = Entry(window, width=30)\n",
        "entry3.grid(row, column=1, padx=4, columnspan=2)\n",
        "\n",
        "entry4 = Entry(window, width=30)\n",
        "entry4.grid(row=3, column=1, padx=4, columnspan=2)\n",
        "\n",
        "\n",
        "lbl4 = Label(window, text='Choose among the operators',justify=\"left\", bg=\"yellow\")\n",
        "lbl4.grid(row=4,column=0)\n",
        "btn1=Button(window,text=\"Add\",width=10)\n",
        "btn1.grid(row=4,column=0)\n",
        "\n",
        "btn2=Button(window, text=\"Multiply\", width=10)\n",
        "btn2.grid(row=5,column=1, sticky=W)\n",
        "\n",
        "btn3=Button(window, text=\"Subtract\", width=10)\n",
        "btn3.grid(row=5,column=2, sticky=W)\n",
        "\n",
        "btn4=Button(window, text=\"Divide\", width=10)\n",
        "btn4.grid(row=5,column=3, sticky=E)\n",
        "\n",
        "lbl5= Label(window,text = \"Answer\")\n",
        "lbl5.grid(row=6,column=0)\n",
        "\n",
        "entry5= Entry(window, width = 30)\n",
        "entry5.grid(row=6, column =1)\n",
        "\n",
        "\n",
        "\n",
        "\n",
        "\n",
        "\n",
        "\n",
        "\n",
        "\n",
        "\n",
        "window.mainloop()"
      ]
    }
  ]
}