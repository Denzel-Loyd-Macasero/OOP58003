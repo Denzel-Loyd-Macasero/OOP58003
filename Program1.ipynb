{
  "nbformat": 4,
  "nbformat_minor": 0,
  "metadata": {
    "colab": {
      "name": "Program1.ipynb",
      "provenance": [],
      "authorship_tag": "ABX9TyMkNk5sLaC6fNDR2ZTMZp4G",
      "include_colab_link": true
    },
    "kernelspec": {
      "name": "python3",
      "display_name": "Python 3"
    },
    "language_info": {
      "name": "python"
    }
  },
  "cells": [
    {
      "cell_type": "markdown",
      "metadata": {
        "id": "view-in-github",
        "colab_type": "text"
      },
      "source": [
        "<a href=\"https://colab.research.google.com/github/Denzel-Loyd-Macasero/OOP58003/blob/main/Program1.ipynb\" target=\"_parent\"><img src=\"https://colab.research.google.com/assets/colab-badge.svg\" alt=\"Open In Colab\"/></a>"
      ]
    },
    {
      "cell_type": "code",
      "execution_count": 6,
      "metadata": {
        "colab": {
          "base_uri": "https://localhost:8080/"
        },
        "id": "aeduL7v3X3nQ",
        "outputId": "dac18c02-2fa0-4403-80da-f6ebc58e9d6c"
      },
      "outputs": [
        {
          "output_type": "stream",
          "name": "stdout",
          "text": [
            "Enter the temperature in Celsius: 50\n",
            "323.15 Kelvin\n",
            "122.0 Fahrenheit\n",
            "Enter the temperature in Kelvin: 30\n",
            "-243.14999999999998 Celsius\n",
            "-405.66999999999996 Fahrenheit\n",
            "Enter the temperature in Fahrenheit: 50\n",
            "10.0 Celsius\n",
            "283.15 Kelvin\n"
          ]
        }
      ],
      "source": [
        "def main():\n",
        "    class TemperatureConversion:\n",
        "\n",
        "        def __init__(self, temp=1):\n",
        "            self._temp = temp\n",
        "\n",
        "    class CelsiusToFahrenheit(TemperatureConversion):\n",
        "\n",
        "        def conversion(self):\n",
        "            return (self._temp * 9) / 5 + 32\n",
        "\n",
        "    class CelsiusToKelvin(TemperatureConversion):\n",
        "\n",
        "        def conversion(self):\n",
        "            return self._temp + 273.15\n",
        "\n",
        "    class FahrenheitToCelsius(TemperatureConversion):\n",
        "\n",
        "        def conversion(self):\n",
        "            return (self._temp - 32) * 5/9\n",
        "\n",
        "    class FahrenheitToKelvin(TemperatureConversion):\n",
        "\n",
        "        def conversion(self):\n",
        "            return (self._temp - 32) * 5/9 + 273.15\n",
        "\n",
        "    class KelvinToCelsius(TemperatureConversion):\n",
        "\n",
        "        def conversion(self):\n",
        "            return self._temp - 273.15\n",
        "\n",
        "    class KelvinToFahrenheit(TemperatureConversion):\n",
        "\n",
        "        def conversion(self):\n",
        "            return ((self._temp - 273.15) * 9) / 5 + 32\n",
        "\n",
        "    tempInCelsius = float(input(\"Enter the temperature in Celsius: \"))\n",
        "\n",
        "    convert = CelsiusToKelvin(tempInCelsius)\n",
        "\n",
        "    print(str(convert.conversion()) + \" Kelvin\")\n",
        "\n",
        "    convert = CelsiusToFahrenheit(tempInCelsius)\n",
        "\n",
        "    print(str(convert.conversion()) + \" Fahrenheit\")\n",
        "\n",
        "    tempInKelvin = float(input(\"Enter the temperature in Kelvin: \"))\n",
        "\n",
        "    convert = KelvinToCelsius(tempInKelvin)\n",
        "\n",
        "    print(str(convert.conversion()) + \" Celsius\")\n",
        "\n",
        "    convert = KelvinToFahrenheit(tempInKelvin)\n",
        "\n",
        "    print(str(convert.conversion()) + \" Fahrenheit\")\n",
        "\n",
        "\n",
        "    tempInFahrenheit = float(input(\"Enter the temperature in Fahrenheit: \"))\n",
        "\n",
        "    convert = FahrenheitToCelsius(tempInFahrenheit)\n",
        "\n",
        "    print(str(convert.conversion()) + \" Celsius\")\n",
        "\n",
        "    convert = FahrenheitToKelvin(tempInFahrenheit)\n",
        "\n",
        "    print(str(convert.conversion()) + \" Kelvin\")\n",
        "main()"
      ]
    }
  ]
}