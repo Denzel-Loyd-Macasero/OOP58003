{
  "nbformat": 4,
  "nbformat_minor": 0,
  "metadata": {
    "colab": {
      "name": "Student Attributes",
      "provenance": [],
      "authorship_tag": "ABX9TyPFI8FW5kPyP36wJMJh6sxj",
      "include_colab_link": true
    },
    "kernelspec": {
      "name": "python3",
      "display_name": "Python 3"
    },
    "language_info": {
      "name": "python"
    }
  },
  "cells": [
    {
      "cell_type": "markdown",
      "metadata": {
        "id": "view-in-github",
        "colab_type": "text"
      },
      "source": [
        "<a href=\"https://colab.research.google.com/github/Denzel-Loyd-Macasero/OOP58003/blob/main/Student_Attributes.ipynb\" target=\"_parent\"><img src=\"https://colab.research.google.com/assets/colab-badge.svg\" alt=\"Open In Colab\"/></a>"
      ]
    },
    {
      "cell_type": "code",
      "execution_count": 16,
      "metadata": {
        "id": "nZLTFAd4NJ4r"
      },
      "outputs": [],
      "source": [
        "\n",
        "class Student():\n",
        "  def __init__(self,Name, StudentNo, Age, School,Course):\n",
        "    self.Name = Name\n",
        "    self.StudentNo = StudentNo\n",
        "    self.Age = Age\n",
        "    self.School = School\n",
        "    self.Course = Course\n",
        "\n",
        "    def Info(self):\n",
        "        print(\"My Name is\", self.Name + \"My student number is\", self.StudentNo + \"I'm\", self.Age + \"My school is\", self.School + \"and my Course is\", self.Course)\n",
        "\n",
        "        Student1 = Student(\"Denzel Loyd M. Macasero\", \"202113263\", \"19\", \"Adamson University\", \"B.S. Computer Engineering\")\n",
        "        Student1.Info()\n",
        "      \n",
        "      "
      ]
    }
  ]
}