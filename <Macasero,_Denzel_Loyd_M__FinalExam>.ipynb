{
  "nbformat": 4,
  "nbformat_minor": 0,
  "metadata": {
    "colab": {
      "name": "<Macasero, Denzel Loyd M._FinalExam>.ipynb",
      "provenance": [],
      "authorship_tag": "ABX9TyO/rHbOJr1JzO/2FeNi0+j3",
      "include_colab_link": true
    },
    "kernelspec": {
      "name": "python3",
      "display_name": "Python 3"
    },
    "language_info": {
      "name": "python"
    }
  },
  "cells": [
    {
      "cell_type": "markdown",
      "metadata": {
        "id": "view-in-github",
        "colab_type": "text"
      },
      "source": [
        "<a href=\"https://colab.research.google.com/github/Denzel-Loyd-Macasero/OOP58003/blob/main/%3CMacasero%2C_Denzel_Loyd_M__FinalExam%3E.ipynb\" target=\"_parent\"><img src=\"https://colab.research.google.com/assets/colab-badge.svg\" alt=\"Open In Colab\"/></a>"
      ]
    },
    {
      "cell_type": "code",
      "execution_count": 5,
      "metadata": {
        "colab": {
          "base_uri": "https://localhost:8080/",
          "height": 130
        },
        "id": "sNNJrJQByEu0",
        "outputId": "956e703c-f10a-4a3a-d891-7635b000c988"
      },
      "outputs": [
        {
          "output_type": "error",
          "ename": "IndentationError",
          "evalue": "ignored",
          "traceback": [
            "\u001b[0;36m  File \u001b[0;32m\"<ipython-input-5-ea4127289872>\"\u001b[0;36m, line \u001b[0;32m34\u001b[0m\n\u001b[0;31m    L = []\u001b[0m\n\u001b[0m    ^\u001b[0m\n\u001b[0;31mIndentationError\u001b[0m\u001b[0;31m:\u001b[0m expected an indented block\n"
          ]
        }
      ],
      "source": [
        "from tkinter import *\n",
        "\n",
        "\n",
        "window = Tk()\n",
        "window.title(\"GUI Form\")\n",
        "window.geometry(\"400x300+20+10\")\n",
        "\n",
        "lbl1 = Label(window, text = \"Find the smallest number\")\n",
        "lbl1.grid(row=0, column=1, columnspan=3, sticy=EW)\n",
        "lbl2 = Label(window, text =\"Enter the first number:\")\n",
        "lbl2.grid(row=0, column = 0)\n",
        "ent2 = Entry(window, bd=3, textvariable=con0fent2)\n",
        "ent2.grid(row=1, column =1)\n",
        "con0fent2 = StringVar()\n",
        "lbl3 = Label(window, text = \"Enter the second number: \")\n",
        "lbl3.grid(row=2, colum=1)\n",
        "ent3 = Entry(window,bd=3, textvarible=con0fent3)\n",
        "ent3.grid(row=2,column=3)\n",
        "con0fent3=Stringvar()\n",
        "lbl4 = Label(window, text=\"Enter the third number: \")\n",
        "lbl4.grid(row=3,column =0)\n",
        "ent4 = Entry(window, bd=3, textvariable=con0fent4)\n",
        "ent4.grid(row=3, column=1)\n",
        "\n",
        "btn1 = Button(window, text = \"find the smallest no.\")\n",
        "btn1.grid(row=4, column = 1)\n",
        "lbl5 = Label(window, text=\"The smallest number:\")\n",
        "lbl5.grid(row=5, column=0)\n",
        "con0fLargest = StringVar()\n",
        "ent5 = Entry(window, bd=3, state=\"readonly\")\n",
        "ent5.grid(row=5, column=1)\n",
        "\n",
        "def findSmallest():\n",
        "L = []\n",
        "L.append(eval(con0fent2.get()))\n",
        "L.append(eval(con0fent3.get()))\n",
        "L.append(eval(con0fent4.get()))\n",
        "con0Largest.set(max(L))\n",
        "\n",
        "\n",
        "\n",
        "\n",
        "\n",
        "\n",
        "\n",
        "\n",
        "\n",
        "window.mainloop()\n",
        "\n",
        "\n",
        "\n",
        "\n",
        "mainloop()\n"
      ]
    }
  ]
}