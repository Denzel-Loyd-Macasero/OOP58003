{
  "nbformat": 4,
  "nbformat_minor": 0,
  "metadata": {
    "colab": {
      "name": "GUI Application.ipynb",
      "provenance": [],
      "authorship_tag": "ABX9TyOVFK38Fi6CoTFR5kFy8kPF",
      "include_colab_link": true
    },
    "kernelspec": {
      "name": "python3",
      "display_name": "Python 3"
    },
    "language_info": {
      "name": "python"
    }
  },
  "cells": [
    {
      "cell_type": "markdown",
      "metadata": {
        "id": "view-in-github",
        "colab_type": "text"
      },
      "source": [
        "<a href=\"https://colab.research.google.com/github/Denzel-Loyd-Macasero/OOP58003/blob/main/GUI_Application.ipynb\" target=\"_parent\"><img src=\"https://colab.research.google.com/assets/colab-badge.svg\" alt=\"Open In Colab\"/></a>"
      ]
    },
    {
      "cell_type": "markdown",
      "source": [
        "Students' Grade in Prelim, Midterm, and Final Term"
      ],
      "metadata": {
        "id": "odyqFkpJG1JG"
      }
    },
    {
      "cell_type": "code",
      "source": [
        "#/@title Students's grade in OO\n",
        "\n",
        "Student_Name = 'Enter the student name' #@param {tyoe: \"string\"}\n",
        "Prelim_Grade = 100#@param {type: \"number\"}\n",
        "Midterm_Grade = 100#@param {type: \"number\"}\n",
        "Final_Grade = 100#@param {type: \"number\"}\n",
        "Semestral_Grade = (Prelim_Grade+Midterm_Grade+Final_Grade)/3\n",
        "\n",
        "print(Semestral_Grade)\n",
        "\n",
        "Gender = \"Male\"#@param [\"Male\", \"Female\"]\n",
        "Civil_Status= False#@param {type: \"boolean\"}\n",
        "Single = False#@param {type: \"boolean\"}\n",
        "Married = False#@param {type: \"boolean\"}\n",
        "Widow = False#@param {type: \"boolean\"}\n",
        "\n",
        "print(\"My Name is: \"+Student_Name)\n",
        "print(\"My Semestral Grade is\"+str(Semenstral_Grade))\n"
      ],
      "metadata": {
        "id": "LaWtuBdsG3Wy"
      },
      "execution_count": null,
      "outputs": []
    }
  ]
}